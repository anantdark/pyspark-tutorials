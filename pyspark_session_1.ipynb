{
 "cells": [
  {
   "cell_type": "code",
   "execution_count": 43,
   "id": "c7f5dcbf-ca22-403a-9831-bb00ae11b5ba",
   "metadata": {},
   "outputs": [
    {
     "name": "stdout",
     "output_type": "stream",
     "text": [
      "Requirement already satisfied: pyspark in /home/user/.pyenv/versions/3.11.5/lib/python3.11/site-packages (3.5.4)\n",
      "Requirement already satisfied: py4j==0.10.9.7 in /home/user/.pyenv/versions/3.11.5/lib/python3.11/site-packages (from pyspark) (0.10.9.7)\n",
      "\n",
      "\u001b[1m[\u001b[0m\u001b[34;49mnotice\u001b[0m\u001b[1;39;49m]\u001b[0m\u001b[39;49m A new release of pip is available: \u001b[0m\u001b[31;49m24.0\u001b[0m\u001b[39;49m -> \u001b[0m\u001b[32;49m25.0\u001b[0m\n",
      "\u001b[1m[\u001b[0m\u001b[34;49mnotice\u001b[0m\u001b[1;39;49m]\u001b[0m\u001b[39;49m To update, run: \u001b[0m\u001b[32;49mpip install --upgrade pip\u001b[0m\n"
     ]
    }
   ],
   "source": [
    "!pip install pyspark"
   ]
  },
  {
   "cell_type": "code",
   "execution_count": 44,
   "id": "7a3f3c4d-5dac-46aa-af40-1cf0b2c0ad4b",
   "metadata": {},
   "outputs": [
    {
     "name": "stdout",
     "output_type": "stream",
     "text": [
      "Requirement already satisfied: pandas in /home/user/.pyenv/versions/3.11.5/lib/python3.11/site-packages (2.2.3)\n",
      "Requirement already satisfied: numpy>=1.23.2 in /home/user/.pyenv/versions/3.11.5/lib/python3.11/site-packages (from pandas) (2.2.2)\n",
      "Requirement already satisfied: python-dateutil>=2.8.2 in /home/user/.pyenv/versions/3.11.5/lib/python3.11/site-packages (from pandas) (2.8.2)\n",
      "Requirement already satisfied: pytz>=2020.1 in /home/user/.pyenv/versions/3.11.5/lib/python3.11/site-packages (from pandas) (2023.3.post1)\n",
      "Requirement already satisfied: tzdata>=2022.7 in /home/user/.pyenv/versions/3.11.5/lib/python3.11/site-packages (from pandas) (2025.1)\n",
      "Requirement already satisfied: six>=1.5 in /home/user/.pyenv/versions/3.11.5/lib/python3.11/site-packages (from python-dateutil>=2.8.2->pandas) (1.16.0)\n",
      "\n",
      "\u001b[1m[\u001b[0m\u001b[34;49mnotice\u001b[0m\u001b[1;39;49m]\u001b[0m\u001b[39;49m A new release of pip is available: \u001b[0m\u001b[31;49m24.0\u001b[0m\u001b[39;49m -> \u001b[0m\u001b[32;49m25.0\u001b[0m\n",
      "\u001b[1m[\u001b[0m\u001b[34;49mnotice\u001b[0m\u001b[1;39;49m]\u001b[0m\u001b[39;49m To update, run: \u001b[0m\u001b[32;49mpip install --upgrade pip\u001b[0m\n"
     ]
    }
   ],
   "source": [
    "!pip install pandas"
   ]
  },
  {
   "cell_type": "code",
   "execution_count": 4,
   "id": "b117a452-6fac-463d-b2cb-33cbfdd26997",
   "metadata": {},
   "outputs": [
    {
     "data": {
      "text/html": [
       "<div>\n",
       "<style scoped>\n",
       "    .dataframe tbody tr th:only-of-type {\n",
       "        vertical-align: middle;\n",
       "    }\n",
       "\n",
       "    .dataframe tbody tr th {\n",
       "        vertical-align: top;\n",
       "    }\n",
       "\n",
       "    .dataframe thead th {\n",
       "        text-align: right;\n",
       "    }\n",
       "</style>\n",
       "<table border=\"1\" class=\"dataframe\">\n",
       "  <thead>\n",
       "    <tr style=\"text-align: right;\">\n",
       "      <th></th>\n",
       "      <th>wcs_order_id</th>\n",
       "      <th>id</th>\n",
       "      <th>backend_id</th>\n",
       "      <th>create_dt</th>\n",
       "      <th>update_dt</th>\n",
       "    </tr>\n",
       "  </thead>\n",
       "  <tbody>\n",
       "    <tr>\n",
       "      <th>0</th>\n",
       "      <td>R35434519</td>\n",
       "      <td>202307310201192599777213</td>\n",
       "      <td>RX000909482</td>\n",
       "      <td>July 31, 2023, 2:46 a.m.</td>\n",
       "      <td>July 31, 2023, 2:46 a.m.</td>\n",
       "    </tr>\n",
       "    <tr>\n",
       "      <th>1</th>\n",
       "      <td>R35434562</td>\n",
       "      <td>202307310201172599776206</td>\n",
       "      <td>RX000909605</td>\n",
       "      <td>July 31, 2023, 2:46 a.m.</td>\n",
       "      <td>July 31, 2023, 2:46 a.m.</td>\n",
       "    </tr>\n",
       "    <tr>\n",
       "      <th>2</th>\n",
       "      <td>R35434525</td>\n",
       "      <td>202307310201162599776032</td>\n",
       "      <td>RX000909481</td>\n",
       "      <td>July 31, 2023, 2:46 a.m.</td>\n",
       "      <td>July 31, 2023, 2:46 a.m.</td>\n",
       "    </tr>\n",
       "    <tr>\n",
       "      <th>3</th>\n",
       "      <td>R35434474</td>\n",
       "      <td>202307310201102599774628</td>\n",
       "      <td>RX000909480</td>\n",
       "      <td>July 31, 2023, 2:46 a.m.</td>\n",
       "      <td>July 31, 2023, 2:46 a.m.</td>\n",
       "    </tr>\n",
       "    <tr>\n",
       "      <th>4</th>\n",
       "      <td>R35436935</td>\n",
       "      <td>202307310237532599949318</td>\n",
       "      <td>RX002613352</td>\n",
       "      <td>July 31, 2023, 2:48 a.m.</td>\n",
       "      <td>July 31, 2023, 3:28 a.m.</td>\n",
       "    </tr>\n",
       "    <tr>\n",
       "      <th>5</th>\n",
       "      <td>R35437314</td>\n",
       "      <td>202307310237522599949079</td>\n",
       "      <td>RX002613351</td>\n",
       "      <td>July 31, 2023, 2:48 a.m.</td>\n",
       "      <td>July 31, 2023, 3:28 a.m.</td>\n",
       "    </tr>\n",
       "    <tr>\n",
       "      <th>6</th>\n",
       "      <td>R35436432</td>\n",
       "      <td>202307310235252599929724</td>\n",
       "      <td>RX002613350</td>\n",
       "      <td>July 31, 2023, 2:46 a.m.</td>\n",
       "      <td>July 31, 2023, 3:28 a.m.</td>\n",
       "    </tr>\n",
       "    <tr>\n",
       "      <th>7</th>\n",
       "      <td>R35436064</td>\n",
       "      <td>202307310235192599927636</td>\n",
       "      <td>RX002613349</td>\n",
       "      <td>July 31, 2023, 2:46 a.m.</td>\n",
       "      <td>July 31, 2023, 3:28 a.m.</td>\n",
       "    </tr>\n",
       "  </tbody>\n",
       "</table>\n",
       "</div>"
      ],
      "text/plain": [
       "  wcs_order_id                        id   backend_id  \\\n",
       "0    R35434519  202307310201192599777213  RX000909482   \n",
       "1    R35434562  202307310201172599776206  RX000909605   \n",
       "2    R35434525  202307310201162599776032  RX000909481   \n",
       "3    R35434474  202307310201102599774628  RX000909480   \n",
       "4    R35436935  202307310237532599949318  RX002613352   \n",
       "5    R35437314  202307310237522599949079  RX002613351   \n",
       "6    R35436432  202307310235252599929724  RX002613350   \n",
       "7    R35436064  202307310235192599927636  RX002613349   \n",
       "\n",
       "                  create_dt                 update_dt  \n",
       "0  July 31, 2023, 2:46 a.m.  July 31, 2023, 2:46 a.m.  \n",
       "1  July 31, 2023, 2:46 a.m.  July 31, 2023, 2:46 a.m.  \n",
       "2  July 31, 2023, 2:46 a.m.  July 31, 2023, 2:46 a.m.  \n",
       "3  July 31, 2023, 2:46 a.m.  July 31, 2023, 2:46 a.m.  \n",
       "4  July 31, 2023, 2:48 a.m.  July 31, 2023, 3:28 a.m.  \n",
       "5  July 31, 2023, 2:48 a.m.  July 31, 2023, 3:28 a.m.  \n",
       "6  July 31, 2023, 2:46 a.m.  July 31, 2023, 3:28 a.m.  \n",
       "7  July 31, 2023, 2:46 a.m.  July 31, 2023, 3:28 a.m.  "
      ]
     },
     "execution_count": 4,
     "metadata": {},
     "output_type": "execute_result"
    }
   ],
   "source": [
    "import pandas as pd\n",
    "pd.read_csv(\"check.csv\")"
   ]
  },
  {
   "cell_type": "code",
   "execution_count": 6,
   "id": "3350fb5e-4ea2-466a-9f3a-d072dc5226a4",
   "metadata": {},
   "outputs": [],
   "source": [
    "from pyspark.sql import SparkSession"
   ]
  },
  {
   "cell_type": "code",
   "execution_count": 7,
   "id": "9b02c13b-6d96-4596-afde-2d3ebb683dd3",
   "metadata": {},
   "outputs": [
    {
     "name": "stderr",
     "output_type": "stream",
     "text": [
      "25/01/29 18:32:54 WARN Utils: Your hostname, del1-lhp-n82066 resolves to a loopback address: 127.0.1.1; using 192.168.29.188 instead (on interface wlp0s20f3)\n",
      "25/01/29 18:32:54 WARN Utils: Set SPARK_LOCAL_IP if you need to bind to another address\n",
      "Setting default log level to \"WARN\".\n",
      "To adjust logging level use sc.setLogLevel(newLevel). For SparkR, use setLogLevel(newLevel).\n",
      "25/01/29 18:32:54 WARN NativeCodeLoader: Unable to load native-hadoop library for your platform... using builtin-java classes where applicable\n"
     ]
    }
   ],
   "source": [
    "spark = SparkSession.builder.appName(\"practice\").getOrCreate()"
   ]
  },
  {
   "cell_type": "code",
   "execution_count": 8,
   "id": "cd8bb399-5c89-492f-aa8c-88eecd3e6b71",
   "metadata": {},
   "outputs": [
    {
     "data": {
      "text/html": [
       "\n",
       "            <div>\n",
       "                <p><b>SparkSession - in-memory</b></p>\n",
       "                \n",
       "        <div>\n",
       "            <p><b>SparkContext</b></p>\n",
       "\n",
       "            <p><a href=\"http://192.168.29.188:4040\">Spark UI</a></p>\n",
       "\n",
       "            <dl>\n",
       "              <dt>Version</dt>\n",
       "                <dd><code>v3.5.4</code></dd>\n",
       "              <dt>Master</dt>\n",
       "                <dd><code>local[*]</code></dd>\n",
       "              <dt>AppName</dt>\n",
       "                <dd><code>practice</code></dd>\n",
       "            </dl>\n",
       "        </div>\n",
       "        \n",
       "            </div>\n",
       "        "
      ],
      "text/plain": [
       "<pyspark.sql.session.SparkSession at 0x7fc4dd25ea50>"
      ]
     },
     "execution_count": 8,
     "metadata": {},
     "output_type": "execute_result"
    }
   ],
   "source": [
    "spark"
   ]
  },
  {
   "cell_type": "code",
   "execution_count": 9,
   "id": "87c1a10e-f063-4054-9807-9272e9290af3",
   "metadata": {},
   "outputs": [],
   "source": [
    "df_pyspark = spark.read.csv(\"check.csv\")"
   ]
  },
  {
   "cell_type": "code",
   "execution_count": 11,
   "id": "77696126-f1ec-4a7d-9f27-fd2143fcf71a",
   "metadata": {},
   "outputs": [
    {
     "name": "stdout",
     "output_type": "stream",
     "text": [
      "+------------+--------------------+-----------+--------------------+--------------------+\n",
      "|         _c0|                 _c1|        _c2|                 _c3|                 _c4|\n",
      "+------------+--------------------+-----------+--------------------+--------------------+\n",
      "|wcs_order_id|                  id| backend_id|           create_dt|           update_dt|\n",
      "|   R35434519|20230731020119259...|RX000909482|July 31, 2023, 2:...|July 31, 2023, 2:...|\n",
      "|   R35434562|20230731020117259...|RX000909605|July 31, 2023, 2:...|July 31, 2023, 2:...|\n",
      "|   R35434525|20230731020116259...|RX000909481|July 31, 2023, 2:...|July 31, 2023, 2:...|\n",
      "|   R35434474|20230731020110259...|RX000909480|July 31, 2023, 2:...|July 31, 2023, 2:...|\n",
      "|   R35436935|20230731023753259...|RX002613352|July 31, 2023, 2:...|July 31, 2023, 3:...|\n",
      "|   R35437314|20230731023752259...|RX002613351|July 31, 2023, 2:...|July 31, 2023, 3:...|\n",
      "|   R35436432|20230731023525259...|RX002613350|July 31, 2023, 2:...|July 31, 2023, 3:...|\n",
      "|   R35436064|20230731023519259...|RX002613349|July 31, 2023, 2:...|July 31, 2023, 3:...|\n",
      "+------------+--------------------+-----------+--------------------+--------------------+\n",
      "\n"
     ]
    }
   ],
   "source": [
    "df_pyspark.show()"
   ]
  },
  {
   "cell_type": "code",
   "execution_count": 18,
   "id": "83710757-19ae-4595-b9b9-71b96157eb75",
   "metadata": {},
   "outputs": [],
   "source": [
    "df_pyspark = spark.read.option('header', 'true').csv('check.csv')"
   ]
  },
  {
   "cell_type": "code",
   "execution_count": 19,
   "id": "1577abc8-a644-4469-aedf-f7cf6b94b463",
   "metadata": {},
   "outputs": [
    {
     "data": {
      "text/plain": [
       "pyspark.sql.dataframe.DataFrame"
      ]
     },
     "execution_count": 19,
     "metadata": {},
     "output_type": "execute_result"
    }
   ],
   "source": [
    "type(df_pyspark)"
   ]
  },
  {
   "cell_type": "code",
   "execution_count": 20,
   "id": "b1495e3c-253e-411f-a710-afae595b1870",
   "metadata": {},
   "outputs": [
    {
     "name": "stdout",
     "output_type": "stream",
     "text": [
      "root\n",
      " |-- wcs_order_id: string (nullable = true)\n",
      " |-- id: string (nullable = true)\n",
      " |-- backend_id: string (nullable = true)\n",
      " |-- create_dt: string (nullable = true)\n",
      " |-- update_dt: string (nullable = true)\n",
      "\n"
     ]
    }
   ],
   "source": [
    "df_pyspark.printSchema()"
   ]
  },
  {
   "cell_type": "code",
   "execution_count": 25,
   "id": "4bf4467a-23b1-4c80-800a-cb0bcf910959",
   "metadata": {},
   "outputs": [
    {
     "data": {
      "text/plain": [
       "[Row(wcs_order_id='R35434519', id='202307310201192599777213', backend_id='RX000909482', create_dt='July 31, 2023, 2:46 a.m.', update_dt='July 31, 2023, 2:46 a.m.'),\n",
       " Row(wcs_order_id='R35434562', id='202307310201172599776206', backend_id='RX000909605', create_dt='July 31, 2023, 2:46 a.m.', update_dt='July 31, 2023, 2:46 a.m.'),\n",
       " Row(wcs_order_id='R35434525', id='202307310201162599776032', backend_id='RX000909481', create_dt='July 31, 2023, 2:46 a.m.', update_dt='July 31, 2023, 2:46 a.m.')]"
      ]
     },
     "execution_count": 25,
     "metadata": {},
     "output_type": "execute_result"
    }
   ],
   "source": [
    "df_pyspark.head(3)"
   ]
  },
  {
   "cell_type": "code",
   "execution_count": 28,
   "id": "95882a26-ab7b-48a3-a89c-0b1131ada6b6",
   "metadata": {},
   "outputs": [
    {
     "name": "stdout",
     "output_type": "stream",
     "text": [
      "+------------+-----------+\n",
      "|wcs_order_id| backend_id|\n",
      "+------------+-----------+\n",
      "|   R35434519|RX000909482|\n",
      "|   R35434562|RX000909605|\n",
      "|   R35434525|RX000909481|\n",
      "|   R35434474|RX000909480|\n",
      "|   R35436935|RX002613352|\n",
      "|   R35437314|RX002613351|\n",
      "|   R35436432|RX002613350|\n",
      "|   R35436064|RX002613349|\n",
      "+------------+-----------+\n",
      "\n"
     ]
    }
   ],
   "source": [
    "df_pyspark.select(['wcs_order_id', 'backend_id']).show()"
   ]
  },
  {
   "cell_type": "code",
   "execution_count": 29,
   "id": "5c345aea-24a2-4eea-a7ec-676cf574ffbf",
   "metadata": {},
   "outputs": [
    {
     "data": {
      "text/plain": [
       "[('wcs_order_id', 'string'),\n",
       " ('id', 'string'),\n",
       " ('backend_id', 'string'),\n",
       " ('create_dt', 'string'),\n",
       " ('update_dt', 'string')]"
      ]
     },
     "execution_count": 29,
     "metadata": {},
     "output_type": "execute_result"
    }
   ],
   "source": [
    "df_pyspark.dtypes"
   ]
  },
  {
   "cell_type": "code",
   "execution_count": 45,
   "id": "6dc18027-3d31-40bf-a966-12ee0f25d09a",
   "metadata": {},
   "outputs": [
    {
     "name": "stdout",
     "output_type": "stream",
     "text": [
      "+------------+-----------+--------------------+--------------------+\n",
      "|wcs_order_id| backend_id|           create_dt|           update_dt|\n",
      "+------------+-----------+--------------------+--------------------+\n",
      "|   R35434519|RX000909482|July 31, 2023, 2:...|July 31, 2023, 2:...|\n",
      "|   R35434562|RX000909605|July 31, 2023, 2:...|July 31, 2023, 2:...|\n",
      "|   R35434525|RX000909481|July 31, 2023, 2:...|July 31, 2023, 2:...|\n",
      "|   R35434474|RX000909480|July 31, 2023, 2:...|July 31, 2023, 2:...|\n",
      "|   R35436935|RX002613352|July 31, 2023, 2:...|July 31, 2023, 3:...|\n",
      "|   R35437314|RX002613351|July 31, 2023, 2:...|July 31, 2023, 3:...|\n",
      "|   R35436432|RX002613350|July 31, 2023, 2:...|July 31, 2023, 3:...|\n",
      "|   R35436064|RX002613349|July 31, 2023, 2:...|July 31, 2023, 3:...|\n",
      "+------------+-----------+--------------------+--------------------+\n",
      "\n"
     ]
    }
   ],
   "source": [
    "df_pyspark.drop('id').show()"
   ]
  },
  {
   "cell_type": "code",
   "execution_count": 46,
   "id": "445a5e1e-33ec-4a1e-af3b-cf476304c952",
   "metadata": {},
   "outputs": [
    {
     "name": "stdout",
     "output_type": "stream",
     "text": [
      "+------------+--------------------+-----------+--------------------+--------------------+\n",
      "|wcs_order_id|                  id| backend_id|           create_dt|           update_dt|\n",
      "+------------+--------------------+-----------+--------------------+--------------------+\n",
      "|   R35434519|20230731020119259...|RX000909482|July 31, 2023, 2:...|July 31, 2023, 2:...|\n",
      "|   R35434562|20230731020117259...|RX000909605|July 31, 2023, 2:...|July 31, 2023, 2:...|\n",
      "|   R35434525|20230731020116259...|RX000909481|July 31, 2023, 2:...|July 31, 2023, 2:...|\n",
      "|   R35434474|20230731020110259...|RX000909480|July 31, 2023, 2:...|July 31, 2023, 2:...|\n",
      "|   R35436935|20230731023753259...|RX002613352|July 31, 2023, 2:...|July 31, 2023, 3:...|\n",
      "|   R35437314|20230731023752259...|RX002613351|July 31, 2023, 2:...|July 31, 2023, 3:...|\n",
      "|   R35436432|20230731023525259...|RX002613350|July 31, 2023, 2:...|July 31, 2023, 3:...|\n",
      "|   R35436064|20230731023519259...|RX002613349|July 31, 2023, 2:...|July 31, 2023, 3:...|\n",
      "+------------+--------------------+-----------+--------------------+--------------------+\n",
      "\n"
     ]
    }
   ],
   "source": [
    "df_pyspark.na.drop().show()"
   ]
  },
  {
   "cell_type": "code",
   "execution_count": 49,
   "id": "5abb5d27-438f-4f09-ba43-e99af019d667",
   "metadata": {},
   "outputs": [],
   "source": [
    "from pyspark.sql import SparkSession\n",
    "spark = SparkSession.builder.appName('practice').getOrCreate()"
   ]
  },
  {
   "cell_type": "code",
   "execution_count": 50,
   "id": "817c9bf7-dcfa-4459-a892-a45a4ab2e890",
   "metadata": {},
   "outputs": [
    {
     "data": {
      "text/html": [
       "\n",
       "            <div>\n",
       "                <p><b>SparkSession - in-memory</b></p>\n",
       "                \n",
       "        <div>\n",
       "            <p><b>SparkContext</b></p>\n",
       "\n",
       "            <p><a href=\"http://192.168.29.188:4040\">Spark UI</a></p>\n",
       "\n",
       "            <dl>\n",
       "              <dt>Version</dt>\n",
       "                <dd><code>v3.5.4</code></dd>\n",
       "              <dt>Master</dt>\n",
       "                <dd><code>local[*]</code></dd>\n",
       "              <dt>AppName</dt>\n",
       "                <dd><code>practice</code></dd>\n",
       "            </dl>\n",
       "        </div>\n",
       "        \n",
       "            </div>\n",
       "        "
      ],
      "text/plain": [
       "<pyspark.sql.session.SparkSession at 0x7fc4dd25ea50>"
      ]
     },
     "execution_count": 50,
     "metadata": {},
     "output_type": "execute_result"
    }
   ],
   "source": [
    "spark"
   ]
  },
  {
   "cell_type": "code",
   "execution_count": 52,
   "id": "16b7c008-69a5-4d84-8c18-9cd84c29aac1",
   "metadata": {},
   "outputs": [
    {
     "name": "stdout",
     "output_type": "stream",
     "text": [
      "+------------+--------------------+-----------+--------------------+--------------------+\n",
      "|wcs_order_id|                  id| backend_id|           create_dt|           update_dt|\n",
      "+------------+--------------------+-----------+--------------------+--------------------+\n",
      "|   R35434519|20230731020119259...|RX000909482|July 31, 2023, 2:...|July 31, 2023, 2:...|\n",
      "|   R35434562|20230731020117259...|RX000909605|July 31, 2023, 2:...|July 31, 2023, 2:...|\n",
      "|   R35434525|20230731020116259...|RX000909481|July 31, 2023, 2:...|July 31, 2023, 2:...|\n",
      "|   R35434474|20230731020110259...|RX000909480|July 31, 2023, 2:...|July 31, 2023, 2:...|\n",
      "|   R35436935|20230731023753259...|RX002613352|July 31, 2023, 2:...|July 31, 2023, 3:...|\n",
      "|   R35437314|20230731023752259...|RX002613351|July 31, 2023, 2:...|July 31, 2023, 3:...|\n",
      "|   R35436432|20230731023525259...|RX002613350|July 31, 2023, 2:...|July 31, 2023, 3:...|\n",
      "|   R35436064|20230731023519259...|RX002613349|July 31, 2023, 2:...|July 31, 2023, 3:...|\n",
      "+------------+--------------------+-----------+--------------------+--------------------+\n",
      "\n"
     ]
    }
   ],
   "source": [
    "df_pyspark.show()"
   ]
  },
  {
   "cell_type": "code",
   "execution_count": 53,
   "id": "5691d169-f6d6-4c85-a408-713da51db417",
   "metadata": {},
   "outputs": [
    {
     "name": "stdout",
     "output_type": "stream",
     "text": [
      "+------------+--------------------+-----------+--------------------+--------------------+\n",
      "|wcs_order_id|                  id| backend_id|           create_dt|           update_dt|\n",
      "+------------+--------------------+-----------+--------------------+--------------------+\n",
      "|   R35434519|20230731020119259...|RX000909482|July 31, 2023, 2:...|July 31, 2023, 2:...|\n",
      "|   R35434562|20230731020117259...|RX000909605|July 31, 2023, 2:...|July 31, 2023, 2:...|\n",
      "|   R35434525|20230731020116259...|RX000909481|July 31, 2023, 2:...|July 31, 2023, 2:...|\n",
      "|   R35434474|20230731020110259...|RX000909480|July 31, 2023, 2:...|July 31, 2023, 2:...|\n",
      "|   R35436935|20230731023753259...|RX002613352|July 31, 2023, 2:...|July 31, 2023, 3:...|\n",
      "|   R35437314|20230731023752259...|RX002613351|July 31, 2023, 2:...|July 31, 2023, 3:...|\n",
      "|   R35436432|20230731023525259...|RX002613350|July 31, 2023, 2:...|July 31, 2023, 3:...|\n",
      "|   R35436064|20230731023519259...|RX002613349|July 31, 2023, 2:...|July 31, 2023, 3:...|\n",
      "+------------+--------------------+-----------+--------------------+--------------------+\n",
      "\n"
     ]
    }
   ],
   "source": [
    "df_pyspark.na.drop(how=\"any\", thresh=3).show()"
   ]
  },
  {
   "cell_type": "code",
   "execution_count": 56,
   "id": "2d035872-c879-4d6f-b891-a5f905627afa",
   "metadata": {},
   "outputs": [
    {
     "name": "stdout",
     "output_type": "stream",
     "text": [
      "+------------+--------------------+-----------+--------------------+--------------------+\n",
      "|wcs_order_id|                  id| backend_id|           create_dt|           update_dt|\n",
      "+------------+--------------------+-----------+--------------------+--------------------+\n",
      "|   R35434519|20230731020119259...|RX000909482|July 31, 2023, 2:...|July 31, 2023, 2:...|\n",
      "|   R35434562|20230731020117259...|RX000909605|July 31, 2023, 2:...|July 31, 2023, 2:...|\n",
      "|   R35434525|20230731020116259...|       NULL|July 31, 2023, 2:...|July 31, 2023, 2:...|\n",
      "|   R35436935|20230731023753259...|RX002613352|July 31, 2023, 2:...|July 31, 2023, 3:...|\n",
      "|   R35437314|20230731023752259...|RX002613351|                NULL|July 31, 2023, 3:...|\n",
      "|   R35436432|20230731023525259...|RX002613350|July 31, 2023, 2:...|                NULL|\n",
      "|        NULL|20230731023519259...|RX002613349|July 31, 2023, 2:...|July 31, 2023, 3:...|\n",
      "+------------+--------------------+-----------+--------------------+--------------------+\n",
      "\n"
     ]
    }
   ],
   "source": [
    "df_pyspark.na.drop(subset='id').show()"
   ]
  },
  {
   "cell_type": "code",
   "execution_count": 58,
   "id": "6ced0c03-077e-4236-87d9-e92be8b743ea",
   "metadata": {},
   "outputs": [
    {
     "name": "stdout",
     "output_type": "stream",
     "text": [
      "+-------------+--------------------+-------------+--------------------+--------------------+\n",
      "| wcs_order_id|                  id|   backend_id|           create_dt|           update_dt|\n",
      "+-------------+--------------------+-------------+--------------------+--------------------+\n",
      "|    R35434519|20230731020119259...|  RX000909482|July 31, 2023, 2:...|July 31, 2023, 2:...|\n",
      "|    R35434562|20230731020117259...|  RX000909605|July 31, 2023, 2:...|July 31, 2023, 2:...|\n",
      "|    R35434525|20230731020116259...|not available|July 31, 2023, 2:...|July 31, 2023, 2:...|\n",
      "|    R35434474|       not available|  RX000909480|July 31, 2023, 2:...|July 31, 2023, 2:...|\n",
      "|    R35436935|20230731023753259...|  RX002613352|July 31, 2023, 2:...|July 31, 2023, 3:...|\n",
      "|    R35437314|20230731023752259...|  RX002613351|       not available|July 31, 2023, 3:...|\n",
      "|    R35436432|20230731023525259...|  RX002613350|July 31, 2023, 2:...|       not available|\n",
      "|not available|20230731023519259...|  RX002613349|July 31, 2023, 2:...|July 31, 2023, 3:...|\n",
      "+-------------+--------------------+-------------+--------------------+--------------------+\n",
      "\n"
     ]
    }
   ],
   "source": [
    "df_pyspark.na.fill('not available').show()"
   ]
  },
  {
   "cell_type": "code",
   "execution_count": 61,
   "id": "6ec948d4-b3b9-4fa0-b0e1-06b8c5f5ee51",
   "metadata": {},
   "outputs": [],
   "source": [
    "total_rows = df_pyspark.count()"
   ]
  },
  {
   "cell_type": "code",
   "execution_count": 64,
   "id": "1f9e8891-2e4a-45d1-ba3b-14e735e22064",
   "metadata": {},
   "outputs": [],
   "source": [
    "from pyspark.sql.functions import col, lit, rand, when"
   ]
  },
  {
   "cell_type": "code",
   "execution_count": 68,
   "id": "8639a10f-e08b-4a08-aae0-65809fd56a3a",
   "metadata": {},
   "outputs": [
    {
     "ename": "TypeError",
     "evalue": "rand() takes from 0 to 1 positional arguments but 2 were given",
     "output_type": "error",
     "traceback": [
      "\u001b[0;31m---------------------------------------------------------------------------\u001b[0m",
      "\u001b[0;31mTypeError\u001b[0m                                 Traceback (most recent call last)",
      "Cell \u001b[0;32mIn[68], line 1\u001b[0m\n\u001b[0;32m----> 1\u001b[0m df_pyspark \u001b[38;5;241m=\u001b[39m df_pyspark\u001b[38;5;241m.\u001b[39mwithColumn(\u001b[38;5;124m'\u001b[39m\u001b[38;5;124mexperience\u001b[39m\u001b[38;5;124m'\u001b[39m, \u001b[43mrand\u001b[49m\u001b[43m(\u001b[49m\u001b[38;5;241;43m1\u001b[39;49m\u001b[43m,\u001b[49m\u001b[43m \u001b[49m\u001b[38;5;241;43m20\u001b[39;49m\u001b[43m)\u001b[49m)\n",
      "File \u001b[0;32m~/.pyenv/versions/3.11.5/lib/python3.11/site-packages/pyspark/sql/utils.py:174\u001b[0m, in \u001b[0;36mtry_remote_functions.<locals>.wrapped\u001b[0;34m(*args, **kwargs)\u001b[0m\n\u001b[1;32m    172\u001b[0m     \u001b[38;5;28;01mreturn\u001b[39;00m \u001b[38;5;28mgetattr\u001b[39m(functions, f\u001b[38;5;241m.\u001b[39m\u001b[38;5;18m__name__\u001b[39m)(\u001b[38;5;241m*\u001b[39margs, \u001b[38;5;241m*\u001b[39m\u001b[38;5;241m*\u001b[39mkwargs)\n\u001b[1;32m    173\u001b[0m \u001b[38;5;28;01melse\u001b[39;00m:\n\u001b[0;32m--> 174\u001b[0m     \u001b[38;5;28;01mreturn\u001b[39;00m \u001b[43mf\u001b[49m\u001b[43m(\u001b[49m\u001b[38;5;241;43m*\u001b[39;49m\u001b[43margs\u001b[49m\u001b[43m,\u001b[49m\u001b[43m \u001b[49m\u001b[38;5;241;43m*\u001b[39;49m\u001b[38;5;241;43m*\u001b[39;49m\u001b[43mkwargs\u001b[49m\u001b[43m)\u001b[49m\n",
      "\u001b[0;31mTypeError\u001b[0m: rand() takes from 0 to 1 positional arguments but 2 were given"
     ]
    }
   ],
   "source": [
    "df_pyspark = df_pyspark.withColumn('experience', rand(1, 20))"
   ]
  },
  {
   "cell_type": "code",
   "execution_count": 67,
   "id": "ca978eb0-f8b4-46ba-9143-4228d939f9ef",
   "metadata": {},
   "outputs": [
    {
     "name": "stdout",
     "output_type": "stream",
     "text": [
      "+------------+--------------------+-----------+--------------------+--------------------+----------+\n",
      "|wcs_order_id|                  id| backend_id|           create_dt|           update_dt|experience|\n",
      "+------------+--------------------+-----------+--------------------+--------------------+----------+\n",
      "|   R35434519|20230731020119259...|RX000909482|July 31, 2023, 2:...|July 31, 2023, 2:...|      NULL|\n",
      "|   R35434562|20230731020117259...|RX000909605|July 31, 2023, 2:...|July 31, 2023, 2:...|      NULL|\n",
      "|   R35434525|20230731020116259...|       NULL|July 31, 2023, 2:...|July 31, 2023, 2:...|      NULL|\n",
      "|   R35434474|                NULL|RX000909480|July 31, 2023, 2:...|July 31, 2023, 2:...|      NULL|\n",
      "|   R35436935|20230731023753259...|RX002613352|July 31, 2023, 2:...|July 31, 2023, 3:...|      NULL|\n",
      "|   R35437314|20230731023752259...|RX002613351|                NULL|July 31, 2023, 3:...|      NULL|\n",
      "|   R35436432|20230731023525259...|RX002613350|July 31, 2023, 2:...|                NULL|      NULL|\n",
      "|        NULL|20230731023519259...|RX002613349|July 31, 2023, 2:...|July 31, 2023, 3:...|      NULL|\n",
      "+------------+--------------------+-----------+--------------------+--------------------+----------+\n",
      "\n"
     ]
    }
   ],
   "source": [
    "df_pyspark.show()"
   ]
  },
  {
   "cell_type": "code",
   "execution_count": null,
   "id": "74d2f2d0-892e-483e-8bca-2152f1c4029a",
   "metadata": {},
   "outputs": [],
   "source": []
  },
  {
   "cell_type": "code",
   "execution_count": null,
   "id": "2fb249ab-dd2c-4a28-a134-0b30d0816372",
   "metadata": {},
   "outputs": [],
   "source": []
  },
  {
   "cell_type": "code",
   "execution_count": null,
   "id": "bd66304a-d612-4ebf-87c1-277af3c991f9",
   "metadata": {},
   "outputs": [],
   "source": []
  },
  {
   "cell_type": "code",
   "execution_count": null,
   "id": "6469792c-3645-489e-bc43-0a60ab71eb50",
   "metadata": {},
   "outputs": [],
   "source": []
  },
  {
   "cell_type": "code",
   "execution_count": null,
   "id": "ff40efac-c6d7-4deb-9d4b-ba71f49e2665",
   "metadata": {},
   "outputs": [],
   "source": []
  },
  {
   "cell_type": "code",
   "execution_count": null,
   "id": "36af807d-8f71-4559-bd73-d3133b17c9c5",
   "metadata": {},
   "outputs": [],
   "source": []
  },
  {
   "cell_type": "code",
   "execution_count": null,
   "id": "7e061efb-15c3-44e2-a877-8600732e22b7",
   "metadata": {},
   "outputs": [],
   "source": []
  },
  {
   "cell_type": "code",
   "execution_count": null,
   "id": "ab7f4eac-db25-4051-a062-ae4712302903",
   "metadata": {},
   "outputs": [],
   "source": []
  },
  {
   "cell_type": "code",
   "execution_count": null,
   "id": "3a9f2d10-03c6-4fbf-b96e-e1e1fcbc77eb",
   "metadata": {},
   "outputs": [],
   "source": []
  },
  {
   "cell_type": "code",
   "execution_count": null,
   "id": "85cc50d9-97a8-455d-8c84-e949444818e3",
   "metadata": {},
   "outputs": [],
   "source": []
  },
  {
   "cell_type": "code",
   "execution_count": null,
   "id": "2d78cfb1-c7ae-45d1-bd85-53ef620d8211",
   "metadata": {},
   "outputs": [],
   "source": []
  },
  {
   "cell_type": "code",
   "execution_count": null,
   "id": "fc63a7b0-5a78-4cf4-b70b-fef84b5f94c1",
   "metadata": {},
   "outputs": [],
   "source": []
  },
  {
   "cell_type": "code",
   "execution_count": null,
   "id": "f282c223-dab3-4d47-9348-4df2e3b3bf53",
   "metadata": {},
   "outputs": [],
   "source": []
  },
  {
   "cell_type": "code",
   "execution_count": null,
   "id": "e38b28fb-6cf1-4815-8163-e726c4f4fc9f",
   "metadata": {},
   "outputs": [],
   "source": []
  },
  {
   "cell_type": "code",
   "execution_count": null,
   "id": "b340385b-cbae-4684-bcdc-b70251fd7b74",
   "metadata": {},
   "outputs": [],
   "source": []
  },
  {
   "cell_type": "code",
   "execution_count": null,
   "id": "07e73191-4812-46f2-b6df-e3873601d8c6",
   "metadata": {},
   "outputs": [],
   "source": []
  },
  {
   "cell_type": "code",
   "execution_count": null,
   "id": "8b5fe1d6-45b5-4aa2-ba2a-27ceb3f936f8",
   "metadata": {},
   "outputs": [],
   "source": []
  },
  {
   "cell_type": "code",
   "execution_count": null,
   "id": "6d474c5f-61b0-4fa9-8645-36b7a0b44339",
   "metadata": {},
   "outputs": [],
   "source": []
  },
  {
   "cell_type": "code",
   "execution_count": null,
   "id": "5b57c6f6-24fa-40e0-ab35-f79a0025e9ac",
   "metadata": {},
   "outputs": [],
   "source": []
  },
  {
   "cell_type": "code",
   "execution_count": null,
   "id": "a0c186d0-84cb-4798-a2c7-c051273c21ec",
   "metadata": {},
   "outputs": [],
   "source": []
  },
  {
   "cell_type": "code",
   "execution_count": null,
   "id": "f49ee034-6279-498a-8683-b27aba816f1b",
   "metadata": {},
   "outputs": [],
   "source": []
  },
  {
   "cell_type": "code",
   "execution_count": null,
   "id": "8cc8a982-56aa-4b17-b50f-2aabaf61a812",
   "metadata": {},
   "outputs": [],
   "source": []
  },
  {
   "cell_type": "code",
   "execution_count": null,
   "id": "1fa2f033-2591-4ae0-8831-16f365cc5833",
   "metadata": {},
   "outputs": [],
   "source": []
  },
  {
   "cell_type": "code",
   "execution_count": null,
   "id": "f7ac9bfa-9812-4ff0-b23c-637a41af52b4",
   "metadata": {},
   "outputs": [],
   "source": []
  },
  {
   "cell_type": "code",
   "execution_count": null,
   "id": "016b7f86-51bb-411b-8898-7554aed775d4",
   "metadata": {},
   "outputs": [],
   "source": []
  },
  {
   "cell_type": "code",
   "execution_count": null,
   "id": "406750e3-e6eb-411f-a0c6-002c5b9c54db",
   "metadata": {},
   "outputs": [],
   "source": []
  }
 ],
 "metadata": {
  "kernelspec": {
   "display_name": "Python 3 (ipykernel)",
   "language": "python",
   "name": "python3"
  },
  "language_info": {
   "codemirror_mode": {
    "name": "ipython",
    "version": 3
   },
   "file_extension": ".py",
   "mimetype": "text/x-python",
   "name": "python",
   "nbconvert_exporter": "python",
   "pygments_lexer": "ipython3",
   "version": "3.11.5"
  }
 },
 "nbformat": 4,
 "nbformat_minor": 5
}
